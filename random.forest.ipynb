{
 "cells": [
  {
   "cell_type": "code",
   "execution_count": 2,
   "metadata": {},
   "outputs": [],
   "source": [
    "import pandas as pd"
   ]
  },
  {
   "cell_type": "code",
   "execution_count": 3,
   "metadata": {},
   "outputs": [],
   "source": [
    "# Load dataset\n",
    "df = pd.read_csv(\"email.csv\")"
   ]
  },
  {
   "cell_type": "code",
   "execution_count": 6,
   "metadata": {},
   "outputs": [
    {
     "name": "stdout",
     "output_type": "stream",
     "text": [
      "Unique values in Category column: ['ham' 'spam']\n"
     ]
    }
   ],
   "source": [
    "# Check unique values in Category column\n",
    "print(\"Unique values in Category column:\", df[\"Category\"].unique())\n",
    "\n",
    "# Filter only valid labels (ham or spam)\n",
    "df = df[df[\"Category\"].isin([\"ham\", \"spam\"])]\n",
    "\n",
    "# Convert labels (0 = ham, 1 = spam)\n",
    "df[\"label\"] = df[\"Category\"].map({\"ham\": 0, \"spam\": 1})\n"
   ]
  },
  {
   "cell_type": "code",
   "execution_count": 7,
   "metadata": {},
   "outputs": [
    {
     "name": "stdout",
     "output_type": "stream",
     "text": [
      "NaN values in label column: 0\n"
     ]
    }
   ],
   "source": [
    "# Ensure there are no NaN values after mapping\n",
    "print(\"NaN values in label column:\", df[\"label\"].isnull().sum())"
   ]
  }
 ],
 "metadata": {
  "kernelspec": {
   "display_name": "base",
   "language": "python",
   "name": "python3"
  },
  "language_info": {
   "codemirror_mode": {
    "name": "ipython",
    "version": 3
   },
   "file_extension": ".py",
   "mimetype": "text/x-python",
   "name": "python",
   "nbconvert_exporter": "python",
   "pygments_lexer": "ipython3",
   "version": "3.11.7"
  }
 },
 "nbformat": 4,
 "nbformat_minor": 2
}
